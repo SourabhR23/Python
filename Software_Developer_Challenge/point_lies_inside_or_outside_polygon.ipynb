{
 "cells": [
  {
   "cell_type": "code",
   "execution_count": 6,
   "metadata": {},
   "outputs": [],
   "source": [
    "def point_in_polygon(point, polygon):\n",
    "     \n",
    "    n = len(polygon)\n",
    "    \n",
    "    # Check if point is a vertex of polygon.\n",
    "    if point in polygon : return True\n",
    "    \n",
    "    # Check if point is on a boundary of polygon.\n",
    "    on_polygon = False\n",
    "    \n",
    "    for i in range(n):\n",
    "        p1 = None\n",
    "        p2 = None\n",
    "        \n",
    "        if i == 0:\n",
    "            p1 = polygon[0]\n",
    "            p2 = polygon[1]\n",
    "        else:\n",
    "            p1 = polygon[i-1]\n",
    "            p2 = polygon[i]\n",
    "            \n",
    "        if (p1[1] == p2[1] and p1[1] == point[1] and point[0] > min(p1[0], p2[0]) and point[0] < max(p1[0], p2[0])) or \\\n",
    "        (p1[1] == p2[1] and p1[0] == point[0] and point[1] > min(p1[0], p2[0]) and point[1] < max(p1[0], p2[0])):\n",
    "            \n",
    "            on_polygon = True\n",
    "            return on_polygon\n",
    "    \n",
    "    # Check if point is inside the polygon.\n",
    "    inside = False\n",
    "\n",
    "    p1x, p1y = polygon[0]\n",
    "    for i in range(n+1):\n",
    "        p2x, p2y = polygon[i % n]\n",
    "        if point[1] > min(p1y, p2y):\n",
    "            if point[1] <= max(p1y, p2y):\n",
    "                if point[0] <= max(p1x, p2x):\n",
    "                    if p1y != p2y:\n",
    "                        xints = (point[1] - p1y) * (p2x - p1x) / (p2y - p1y) + p1x\n",
    "                    if p1x == p2x or point[0] <= xints:\n",
    "                        inside = not inside\n",
    "        p1x,p1y = p2x,p2y\n",
    "\n",
    "    if inside: return True\n",
    "    else: return False"
   ]
  },
  {
   "cell_type": "markdown",
   "metadata": {},
   "source": [
    "**Case 1**"
   ]
  },
  {
   "cell_type": "code",
   "execution_count": 7,
   "metadata": {},
   "outputs": [
    {
     "name": "stdout",
     "output_type": "stream",
     "text": [
      "True\n"
     ]
    }
   ],
   "source": [
    "Polygon = [[1,0],[8,3],[8,8],[1,5]]\n",
    "P = [3,5]\n",
    "print(point_in_polygon(P, Polygon))"
   ]
  },
  {
   "cell_type": "markdown",
   "metadata": {},
   "source": [
    "**Case 2**"
   ]
  },
  {
   "cell_type": "code",
   "execution_count": 8,
   "metadata": {},
   "outputs": [
    {
     "name": "stdout",
     "output_type": "stream",
     "text": [
      "False\n"
     ]
    }
   ],
   "source": [
    "Polygon = [[-3,2],[-2,-0.8],[0,1.2],[2.2,0],[2,4.5]]\n",
    "P = [0,0]\n",
    "print(point_in_polygon(P, Polygon))"
   ]
  }
 ],
 "metadata": {
  "kernelspec": {
   "display_name": "Python 3",
   "language": "python",
   "name": "python3"
  },
  "language_info": {
   "codemirror_mode": {
    "name": "ipython",
    "version": 3
   },
   "file_extension": ".py",
   "mimetype": "text/x-python",
   "name": "python",
   "nbconvert_exporter": "python",
   "pygments_lexer": "ipython3",
   "version": "3.7.3"
  }
 },
 "nbformat": 4,
 "nbformat_minor": 4
}
