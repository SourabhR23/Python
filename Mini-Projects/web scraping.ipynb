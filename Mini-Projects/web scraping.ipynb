{
 "cells": [
  {
   "cell_type": "markdown",
   "metadata": {},
   "source": [
    "# `WEB SCRAPING` - Latest Cars and their Prices"
   ]
  },
  {
   "cell_type": "code",
   "execution_count": 140,
   "metadata": {},
   "outputs": [
    {
     "name": "stdout",
     "output_type": "stream",
     "text": [
      "BMW 3 Series                      ₹ 41.7 Lakh \n",
      "Land Rover Range Rover Evoque     ₹ 58 Lakh \n",
      "Mercedes-Benz C-Class             ₹ 40.9 Lakh \n",
      "BMW X1                            ₹ 42.9 Lakh \n",
      "Ford Mustang                      ₹ 74.61 Lakh \n",
      "Toyota Vellfire                   ₹ 79.54 Lakh \n",
      "BMW 5 Series                      ₹ 55.4 Lakh \n",
      "Audi A6                           ₹ 54.43 Lakh \n",
      "Land Rover Range Rover Velar      ₹ 73.3 Lakh \n",
      "Jaguar XE                         ₹ 46.64 Lakh \n"
     ]
    }
   ],
   "source": [
    "import requests\n",
    "import bs4\n",
    "\n",
    "res = requests.get('https://www.carwale.com/luxury-cars/')\n",
    "\n",
    "soup = bs4.BeautifulSoup(res.text, 'html')\n",
    "modelNames = soup.select('h2 > span')\n",
    "prices = soup.select('div.leftfloat > div > span.font18')\n",
    "\n",
    "for i in range(len(prices)):\n",
    "    print(f'{modelNames[i].getText():{29}}', \" \",prices[i].getText())"
   ]
  }
 ],
 "metadata": {
  "kernelspec": {
   "display_name": "Python 3",
   "language": "python",
   "name": "python3"
  },
  "language_info": {
   "codemirror_mode": {
    "name": "ipython",
    "version": 3
   },
   "file_extension": ".py",
   "mimetype": "text/x-python",
   "name": "python",
   "nbconvert_exporter": "python",
   "pygments_lexer": "ipython3",
   "version": "3.7.3"
  }
 },
 "nbformat": 4,
 "nbformat_minor": 4
}
